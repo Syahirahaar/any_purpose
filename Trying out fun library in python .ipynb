{
 "cells": [
  {
   "cell_type": "code",
   "execution_count": 1,
   "metadata": {},
   "outputs": [],
   "source": [
    "#source:https://levelup.gitconnected.com/10-interesting-python-programs-with-code-b676181a2d1a\n"
   ]
  },
  {
   "cell_type": "code",
   "execution_count": 2,
   "metadata": {},
   "outputs": [],
   "source": [
    "# 10 interesting Python Programs with Code"
   ]
  },
  {
   "cell_type": "markdown",
   "metadata": {},
   "source": [
    "### FAKER library"
   ]
  },
  {
   "cell_type": "code",
   "execution_count": 3,
   "metadata": {},
   "outputs": [
    {
     "name": "stdout",
     "output_type": "stream",
     "text": [
      "Steven Taylor\n",
      "latoyamiller@morris.com\n",
      "Libyan Arab Jamahiriya\n",
      "{'job': 'Art gallery manager', 'company': 'Morgan-Brown', 'ssn': '433-75-0427', 'residence': 'PSC 0237, Box 1272\\nAPO AP 97127', 'current_location': (Decimal('62.7342875'), Decimal('12.353619')), 'blood_group': 'B+', 'website': ['http://jones.com/', 'http://barnes.com/', 'https://www.shaw-ayala.com/'], 'username': 'patrick68', 'name': 'Richard Ellison', 'sex': 'M', 'address': '864 Nguyen Harbors\\nNew Lori, CA 99226', 'mail': 'reevesbrent@gmail.com', 'birthdate': datetime.date(1989, 5, 14)}\n"
     ]
    }
   ],
   "source": [
    "from faker import Faker\n",
    "fake = Faker()\n",
    "print(fake.name())\n",
    "print(fake.email())\n",
    "print(fake.country())\n",
    "\n",
    "print(fake.profile())"
   ]
  },
  {
   "cell_type": "markdown",
   "metadata": {},
   "source": [
    "## Handwritten Text Image"
   ]
  },
  {
   "cell_type": "code",
   "execution_count": 10,
   "metadata": {},
   "outputs": [],
   "source": [
    "import pywhatkit\n",
    "pywhatkit.text_to_handwriting('''Hi,this is syahirah. Im here to tell you''')"
   ]
  },
  {
   "cell_type": "markdown",
   "metadata": {},
   "source": [
    "### the output will be as image "
   ]
  },
  {
   "cell_type": "markdown",
   "metadata": {},
   "source": [
    "## Shut down your computer"
   ]
  },
  {
   "cell_type": "code",
   "execution_count": 11,
   "metadata": {},
   "outputs": [
    {
     "name": "stdout",
     "output_type": "stream",
     "text": [
      "Do you want to shutdown your computer (yes / no): no\n",
      "Shutdown is not requested\n"
     ]
    }
   ],
   "source": [
    "import os\n",
    "shutdown = input(\"Do you want to shutdown your computer (yes / no): \")\n",
    "if shutdown == 'yes':\n",
    "    os.system(\"shutdown /s /t 1\")\n",
    "else:\n",
    "    print('Shutdown is not requested')                                               "
   ]
  },
  {
   "cell_type": "markdown",
   "metadata": {},
   "source": [
    "## Print Calendar"
   ]
  },
  {
   "cell_type": "code",
   "execution_count": 13,
   "metadata": {},
   "outputs": [
    {
     "name": "stdout",
     "output_type": "stream",
     "text": [
      "Enter the year of the required calendar 1995\n",
      "Enter the month of the required calendar 1\n",
      "    January 1995\n",
      "Mo Tu We Th Fr Sa Su\n",
      "                   1\n",
      " 2  3  4  5  6  7  8\n",
      " 9 10 11 12 13 14 15\n",
      "16 17 18 19 20 21 22\n",
      "23 24 25 26 27 28 29\n",
      "30 31\n",
      "\n"
     ]
    }
   ],
   "source": [
    "import calendar\n",
    "year =int( input(\"Enter the year of the required calendar \"))\n",
    "month = int( input(\"Enter the month of the required calendar \"))\n",
    "print(calendar.month(year,month))                                                         "
   ]
  },
  {
   "cell_type": "markdown",
   "metadata": {},
   "source": [
    "## Draw a Pie Chart\n"
   ]
  },
  {
   "cell_type": "code",
   "execution_count": 14,
   "metadata": {},
   "outputs": [
    {
     "data": {
      "image/png": "[encoded data removed]",
      "text/plain": [
       "<Figure size 432x288 with 1 Axes>"
      ]
     },
     "metadata": {},
     "output_type": "display_data"
    }
   ],
   "source": [
    "import matplotlib.pyplot as plt\n",
    "Partition = 'Holidays', 'Eating_Out', 'Shopping', 'Groceries'\n",
    "sizes = [250, 100, 300, 200]\n",
    "fig1, ax1 = plt.subplots()\n",
    "ax1.pie(sizes, labels=Partition, autopct='%1.1f%%', shadow=True, startangle=90)         \n",
    "ax1.axis('equal')\n",
    "plt.show()"
   ]
  },
  {
   "cell_type": "markdown",
   "metadata": {},
   "source": [
    "## Alert Box with Python"
   ]
  },
  {
   "cell_type": "code",
   "execution_count": 15,
   "metadata": {},
   "outputs": [
    {
     "name": "stdout",
     "output_type": "stream",
     "text": [
      "Enter a value to divide 10034\n",
      "The value is 2.9411764705882355\n"
     ]
    }
   ],
   "source": [
    "import pyautogui\n",
    "num=int(input(\"Enter a value to divide 100\"))\n",
    "if num == 0:\n",
    "    pyautogui.alert(\" Alert!!! 100 cannot be divided by 0\")\n",
    "else:\n",
    "    print(f'The value is {100/num}')                                               "
   ]
  },
  {
   "cell_type": "markdown",
   "metadata": {},
   "source": [
    "## Text to Audio"
   ]
  },
  {
   "cell_type": "code",
   "execution_count": 18,
   "metadata": {},
   "outputs": [],
   "source": [
    "import pyttsx3\n",
    "engine = pyttsx3.init()\n",
    "engine.say('Hi Syahirah')\n",
    "engine.runAndWait()                                                             "
   ]
  },
  {
   "cell_type": "markdown",
   "metadata": {},
   "source": [
    "## Take a screenshot"
   ]
  },
  {
   "cell_type": "code",
   "execution_count": 19,
   "metadata": {},
   "outputs": [],
   "source": [
    "import pyautogui\n",
    "screenshot = pyautogui.screenshot()\n",
    "screenshot.save(\"screenshot.png\")                                                 \n"
   ]
  },
  {
   "cell_type": "markdown",
   "metadata": {},
   "source": [
    "## Internet Speed Check"
   ]
  },
  {
   "cell_type": "code",
   "execution_count": 37,
   "metadata": {},
   "outputs": [
    {
     "ename": "AttributeError",
     "evalue": "module 'speedtest' has no attribute 'Speedtest'",
     "output_type": "error",
     "traceback": [
      "\u001b[1;31m---------------------------------------------------------------------------\u001b[0m",
      "\u001b[1;31mAttributeError\u001b[0m                            Traceback (most recent call last)",
      "\u001b[1;32m<ipython-input-37-d87956d2068d>\u001b[0m in \u001b[0;36m<module>\u001b[1;34m\u001b[0m\n\u001b[0;32m      1\u001b[0m \u001b[1;32mimport\u001b[0m \u001b[0mspeedtest\u001b[0m\u001b[1;33m\u001b[0m\u001b[1;33m\u001b[0m\u001b[0m\n\u001b[1;32m----> 2\u001b[1;33m \u001b[0mspeed\u001b[0m \u001b[1;33m=\u001b[0m \u001b[0mspeedtest\u001b[0m\u001b[1;33m.\u001b[0m\u001b[0mSpeedtest\u001b[0m\u001b[1;33m(\u001b[0m\u001b[1;33m)\u001b[0m\u001b[1;33m\u001b[0m\u001b[1;33m\u001b[0m\u001b[0m\n\u001b[0m\u001b[0;32m      3\u001b[0m \u001b[0mdownload_speed\u001b[0m \u001b[1;33m=\u001b[0m \u001b[0mspeed\u001b[0m\u001b[1;33m.\u001b[0m\u001b[0mdownload\u001b[0m\u001b[1;33m(\u001b[0m\u001b[1;33m)\u001b[0m\u001b[1;33m\u001b[0m\u001b[1;33m\u001b[0m\u001b[0m\n\u001b[0;32m      4\u001b[0m \u001b[0mupload_speed\u001b[0m \u001b[1;33m=\u001b[0m \u001b[0mspeed\u001b[0m\u001b[1;33m.\u001b[0m\u001b[0mupload\u001b[0m\u001b[1;33m(\u001b[0m\u001b[1;33m)\u001b[0m\u001b[1;33m\u001b[0m\u001b[1;33m\u001b[0m\u001b[0m\n\u001b[0;32m      5\u001b[0m \u001b[0mprint\u001b[0m\u001b[1;33m(\u001b[0m\u001b[1;34mf'The download speed is {download_speed}'\u001b[0m\u001b[1;33m)\u001b[0m\u001b[1;33m\u001b[0m\u001b[1;33m\u001b[0m\u001b[0m\n",
      "\u001b[1;31mAttributeError\u001b[0m: module 'speedtest' has no attribute 'Speedtest'"
     ]
    }
   ],
   "source": [
    "import speedtest\n",
    "speed = speedtest.Speedtest()\n",
    "download_speed = speed.download()\n",
    "upload_speed = speed.upload()\n",
    "print(f'The download speed is {download_speed}')\n",
    "print(f'The uplaod speed is {upload_speed}')                                          "
   ]
  },
  {
   "cell_type": "markdown",
   "metadata": {},
   "source": [
    "## Graphics with Python"
   ]
  },
  {
   "cell_type": "code",
   "execution_count": 32,
   "metadata": {},
   "outputs": [],
   "source": [
    "import random\n",
    "import turtle\n",
    "colors = ['red','cyan','pink' ,'yellow', 'green','orange']\n",
    "t = turtle.Turtle()\n",
    "t.speed(10)\n",
    "turtle.bgcolor(\"black\")\n",
    "length=100\n",
    "angle =50\n",
    "size=5\n",
    "for i in range(length):\n",
    "    color=random.choice(colors)\n",
    "    t.pencolor(color)\n",
    "    t.fillcolor(color)\n",
    "    t.penup()\n",
    "    t.forward(i+50)\n",
    "    t.pendown()\n",
    "    t.left(angle)\n",
    "    t.begin_fill()\n",
    "    t.circle(size)\n",
    "    t.end_fill()\n",
    "turtle.exitonclick()\n",
    "turtle.bgcolor(\"black\")                                                                    \n",
    " "
   ]
  },
  {
   "cell_type": "code",
   "execution_count": 31,
   "metadata": {},
   "outputs": [],
   "source": [
    "#the output will be in a new window and graphics\n"
   ]
  },
  {
   "cell_type": "code",
   "execution_count": null,
   "metadata": {},
   "outputs": [],
   "source": []
  }
 ],
 "metadata": {
  "kernelspec": {
   "display_name": "Python 3",
   "language": "python",
   "name": "python3"
  },
  "language_info": {
   "codemirror_mode": {
    "name": "ipython",
    "version": 3
   },
   "file_extension": ".py",
   "mimetype": "text/x-python",
   "name": "python",
   "nbconvert_exporter": "python",
   "pygments_lexer": "ipython3",
   "version": "3.9.4"
  }
 },
 "nbformat": 4,
 "nbformat_minor": 4
}
