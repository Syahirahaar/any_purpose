{
 "cells": [
  {
   "cell_type": "code",
   "execution_count": null,
   "metadata": {},
   "outputs": [],
   "source": [
    "#connect to database \n",
    "\n",
    "import pymsql\n",
    "import pandas as pd\n"
   ]
  },
  {
   "cell_type": "code",
   "execution_count": 8,
   "metadata": {},
   "outputs": [
    {
     "name": "stdout",
     "output_type": "stream",
     "text": [
      "Connected to MySQL Server version  5.6.47.0\n",
      "You're connected to database:  ('syahirahtestdb',)\n",
      "MySQL connection is closed\n"
     ]
    }
   ],
   "source": [
    "import mysql.connector\n",
    "from mysql.connector import Error\n",
    "\n",
    "try:\n",
    "    connection = mysql.connector.connect(host='invoke-bluebox-mysql.mysql.database.azure.com',\n",
    "                                         database='syahirahtestdb',\n",
    "                                         user='syahirah@invoke-bluebox-mysql',\n",
    "                                         password='syahirah')\n",
    "    if connection.is_connected():\n",
    "        db_Info = connection.get_server_info()\n",
    "        print(\"Connected to MySQL Server version \", db_Info)\n",
    "        cursor = connection.cursor()\n",
    "        cursor.execute(\"select database();\")\n",
    "        record = cursor.fetchone()\n",
    "        print(\"You're connected to database: \", record)\n",
    "\n",
    "except Error as e:\n",
    "    print(\"Error while connecting to MySQL\", e)\n",
    "finally:\n",
    "    if connection.is_connected():\n",
    "        cursor.close()\n",
    "        connection.close() \n",
    "        print(\"MySQL connection is closed\")"
   ]
  },
  {
   "cell_type": "code",
   "execution_count": 7,
   "metadata": {},
   "outputs": [],
   "source": [
    "cur = connection.cursor()\n",
    "\n",
    "cur.execute('''CREATE TABLE IF NOT EXISTS Customer (\n",
    "                id integer PRIMARY KEY,\n",
    "                firstname varchar(255),\n",
    "                lastname varchar(255) )''')"
   ]
  },
  {
   "cell_type": "code",
   "execution_count": 2,
   "metadata": {},
   "outputs": [],
   "source": [
    "import numpy as np"
   ]
  },
  {
   "cell_type": "code",
   "execution_count": 7,
   "metadata": {},
   "outputs": [],
   "source": [
    "#a = [1,3,5,10,45,52,21]\n",
    "\n",
    "def findsum(a):\n",
    "    total = 0\n",
    "    for i in a:\n",
    "        total += i\n",
    "    return total"
   ]
  },
  {
   "cell_type": "code",
   "execution_count": 8,
   "metadata": {},
   "outputs": [
    {
     "name": "stdout",
     "output_type": "stream",
     "text": [
      "20\n"
     ]
    }
   ],
   "source": [
    "print(findsum((8,2,3,0,7)))"
   ]
  },
  {
   "cell_type": "code",
   "execution_count": 11,
   "metadata": {},
   "outputs": [
    {
     "name": "stdout",
     "output_type": "stream",
     "text": [
      "harihays\n"
     ]
    }
   ],
   "source": [
    "def sr(str1):\n",
    "    \n",
    "    rstr1 = ''\n",
    "    index = len(str1)\n",
    "    while index > 0:\n",
    "        rstr1 += str1[index-1]\n",
    "        index=index-1\n",
    "    return rstr1\n",
    "print(sr('syahirah'))"
   ]
  },
  {
   "cell_type": "code",
   "execution_count": 15,
   "metadata": {},
   "outputs": [
    {
     "name": "stdout",
     "output_type": "stream",
     "text": [
      "2\n",
      "9\n"
     ]
    }
   ],
   "source": [
    "def bignum(a):\n",
    "    d={\"uppercase\":0,\"lowercase\":0}\n",
    "    for c in a:\n",
    "        if c.isupper():\n",
    "            d[\"uppercase\"]+=1\n",
    "        elif c.islower():\n",
    "            d[\"lowercase\"]+=1\n",
    "        else:\n",
    "            pass\n",
    "    print(d[\"uppercase\"])\n",
    "    print(d[\"lowercase\"])\n",
    "        \n",
    "bignum('Nur Syahirah')"
   ]
  },
  {
   "cell_type": "code",
   "execution_count": 14,
   "metadata": {},
   "outputs": [
    {
     "name": "stdout",
     "output_type": "stream",
     "text": [
      "Original String :  The quick Brown Fox\n",
      "No. of Upper case characters :  3\n",
      "No. of Lower case Characters :  13\n"
     ]
    }
   ],
   "source": []
  },
  {
   "cell_type": "code",
   "execution_count": 19,
   "metadata": {},
   "outputs": [
    {
     "name": "stdout",
     "output_type": "stream",
     "text": [
      "[1, 2, 3]\n"
     ]
    }
   ],
   "source": [
    "def uniquelist(l):\n",
    "    g = []\n",
    "    for x in l:\n",
    "        if x not in g:\n",
    "            g.append(x)\n",
    "    return g\n",
    "print(uniquelist([1,1,1,1,1,1,2,3]))"
   ]
  },
  {
   "cell_type": "code",
   "execution_count": 22,
   "metadata": {},
   "outputs": [
    {
     "name": "stdout",
     "output_type": "stream",
     "text": [
      "[2, 4, 6, 8]\n"
     ]
    }
   ],
   "source": [
    "#even number\n",
    "\n",
    "def evennumber(f):\n",
    "    h = []\n",
    "    for i in f:\n",
    "        if i%2 == 0:\n",
    "            h.append(i)\n",
    "    return h\n",
    "print(evennumber([1,2,3,4,5,6,7,8,9]))\n",
    "        "
   ]
  },
  {
   "cell_type": "code",
   "execution_count": 23,
   "metadata": {},
   "outputs": [
    {
     "name": "stdout",
     "output_type": "stream",
     "text": [
      "True\n"
     ]
    }
   ],
   "source": [
    "def isPalindrome(string):\n",
    "\tleft_pos = 0\n",
    "\tright_pos = len(string) - 1\n",
    "\t\n",
    "\twhile right_pos >= left_pos:\n",
    "\t\tif  string[left_pos] != string[right_pos]:\n",
    "\t\t\treturn False\n",
    "\t\tleft_pos += 1\n",
    "\t\tright_pos -= 1\n",
    "\treturn True\n",
    "print(isPalindrome('aza')) "
   ]
  },
  {
   "cell_type": "code",
   "execution_count": 24,
   "metadata": {},
   "outputs": [],
   "source": [
    "A = [1,2,3]"
   ]
  },
  {
   "cell_type": "code",
   "execution_count": 25,
   "metadata": {},
   "outputs": [],
   "source": [
    "from collections import Counter\n",
    "def maior_menos_zero(A):\n",
    "    if A < 0:\n",
    "        return 1\n",
    "\n",
    "    else:\n",
    "        return 1 if A != 1 else 2"
   ]
  },
  {
   "cell_type": "code",
   "execution_count": 29,
   "metadata": {},
   "outputs": [
    {
     "data": {
      "text/plain": [
       "[4, 9, 16]"
      ]
     },
     "execution_count": 29,
     "metadata": {},
     "output_type": "execute_result"
    }
   ],
   "source": [
    "#a = [2,3,4]\n",
    "\n",
    "def makesquare(a):\n",
    "    g = []\n",
    "    for i in a:\n",
    "        o = i**2\n",
    "        g.append(o)\n",
    "    return g\n",
    "\n",
    "makesquare([2,3,4])"
   ]
  },
  {
   "cell_type": "code",
   "execution_count": 33,
   "metadata": {},
   "outputs": [
    {
     "data": {
      "text/plain": [
       "4"
      ]
     },
     "execution_count": 33,
     "metadata": {},
     "output_type": "execute_result"
    }
   ],
   "source": [
    "\n",
    "\n",
    "a = lambda x:x**2\n",
    "a(2)"
   ]
  },
  {
   "cell_type": "code",
   "execution_count": 35,
   "metadata": {},
   "outputs": [
    {
     "ename": "TypeError",
     "evalue": "unsupported operand type(s) for ** or pow(): 'list' and 'int'",
     "output_type": "error",
     "traceback": [
      "\u001b[1;31m---------------------------------------------------------------------------\u001b[0m",
      "\u001b[1;31mTypeError\u001b[0m                                 Traceback (most recent call last)",
      "\u001b[1;32m<ipython-input-35-2cc737f12ac0>\u001b[0m in \u001b[0;36m<module>\u001b[1;34m\u001b[0m\n\u001b[0;32m      1\u001b[0m \u001b[1;32mimport\u001b[0m \u001b[0mmath\u001b[0m\u001b[1;33m\u001b[0m\u001b[1;33m\u001b[0m\u001b[0m\n\u001b[0;32m      2\u001b[0m \u001b[0ma\u001b[0m \u001b[1;33m=\u001b[0m \u001b[1;33m[\u001b[0m\u001b[1;36m2\u001b[0m\u001b[1;33m,\u001b[0m\u001b[1;36m3\u001b[0m\u001b[1;33m,\u001b[0m\u001b[1;36m4\u001b[0m\u001b[1;33m]\u001b[0m\u001b[1;33m\u001b[0m\u001b[1;33m\u001b[0m\u001b[0m\n\u001b[1;32m----> 3\u001b[1;33m \u001b[1;33m[\u001b[0m\u001b[0ma\u001b[0m\u001b[1;33m**\u001b[0m\u001b[1;36m2\u001b[0m \u001b[1;32mfor\u001b[0m \u001b[0mi\u001b[0m \u001b[1;32min\u001b[0m \u001b[0ma\u001b[0m\u001b[1;33m]\u001b[0m\u001b[1;33m\u001b[0m\u001b[1;33m\u001b[0m\u001b[0m\n\u001b[0m",
      "\u001b[1;32m<ipython-input-35-2cc737f12ac0>\u001b[0m in \u001b[0;36m<listcomp>\u001b[1;34m(.0)\u001b[0m\n\u001b[0;32m      1\u001b[0m \u001b[1;32mimport\u001b[0m \u001b[0mmath\u001b[0m\u001b[1;33m\u001b[0m\u001b[1;33m\u001b[0m\u001b[0m\n\u001b[0;32m      2\u001b[0m \u001b[0ma\u001b[0m \u001b[1;33m=\u001b[0m \u001b[1;33m[\u001b[0m\u001b[1;36m2\u001b[0m\u001b[1;33m,\u001b[0m\u001b[1;36m3\u001b[0m\u001b[1;33m,\u001b[0m\u001b[1;36m4\u001b[0m\u001b[1;33m]\u001b[0m\u001b[1;33m\u001b[0m\u001b[1;33m\u001b[0m\u001b[0m\n\u001b[1;32m----> 3\u001b[1;33m \u001b[1;33m[\u001b[0m\u001b[0ma\u001b[0m\u001b[1;33m**\u001b[0m\u001b[1;36m2\u001b[0m \u001b[1;32mfor\u001b[0m \u001b[0mi\u001b[0m \u001b[1;32min\u001b[0m \u001b[0ma\u001b[0m\u001b[1;33m]\u001b[0m\u001b[1;33m\u001b[0m\u001b[1;33m\u001b[0m\u001b[0m\n\u001b[0m",
      "\u001b[1;31mTypeError\u001b[0m: unsupported operand type(s) for ** or pow(): 'list' and 'int'"
     ]
    }
   ],
   "source": [
    "import math\n",
    "a = [2,3,4]\n",
    "[a**2 for i in a]"
   ]
  },
  {
   "cell_type": "code",
   "execution_count": 36,
   "metadata": {},
   "outputs": [
    {
     "name": "stdout",
     "output_type": "stream",
     "text": [
      "[2, 4]\n"
     ]
    }
   ],
   "source": [
    "a = [1, 2, 3, 4, 5]\n",
    "even = list(filter(lambda x: (x%2 == 0), a))\n",
    "print(even)"
   ]
  },
  {
   "cell_type": "code",
   "execution_count": 37,
   "metadata": {},
   "outputs": [
    {
     "name": "stdout",
     "output_type": "stream",
     "text": [
      "120\n"
     ]
    }
   ],
   "source": [
    "from functools import reduce\n",
    "\n",
    "a = [1, 2, 3, 4, 5]\n",
    "product = reduce(lambda x, y: x*y, a)\n",
    "print(product)"
   ]
  },
  {
   "cell_type": "code",
   "execution_count": 38,
   "metadata": {},
   "outputs": [
    {
     "data": {
      "text/plain": [
       "120"
      ]
     },
     "execution_count": 38,
     "metadata": {},
     "output_type": "execute_result"
    }
   ],
   "source": [
    "24*5"
   ]
  },
  {
   "cell_type": "code",
   "execution_count": 15,
   "metadata": {},
   "outputs": [],
   "source": [
    "def showEmp(a,sal):\n",
    "    print('Employee ' + a + \" salary is :\" ,+sal )\n",
    "    \n",
    "    \n",
    "#     a = input(str(\"insert the name :\"))\n",
    "#     if a == 'Ben':\n",
    "#         return '9000'\n",
    "#     else:\n",
    "#         return \"wrong\"\n",
    "    \n",
    "    "
   ]
  },
  {
   "cell_type": "code",
   "execution_count": 16,
   "metadata": {},
   "outputs": [
    {
     "name": "stdout",
     "output_type": "stream",
     "text": [
      "Employee Ben salary is : 9000\n"
     ]
    }
   ],
   "source": [
    "showEmp('Ben',9000)"
   ]
  },
  {
   "cell_type": "code",
   "execution_count": 19,
   "metadata": {},
   "outputs": [
    {
     "name": "stdout",
     "output_type": "stream",
     "text": [
      "45\n"
     ]
    }
   ],
   "source": [
    "def acceptinput(a,b):\n",
    "    square = a**2\n",
    "    def innerfun(a,b):\n",
    "        return a+b\n",
    "    add = innerfun(a,b)\n",
    "    return add+5\n",
    "\n",
    "result = acceptinput(5,10)\n",
    "print(result)\n",
    "    \n",
    "   \n",
    "    "
   ]
  },
  {
   "cell_type": "code",
   "execution_count": 3,
   "metadata": {},
   "outputs": [
    {
     "name": "stdout",
     "output_type": "stream",
     "text": [
      "1\n"
     ]
    }
   ],
   "source": [
    "def calculateSum(num):\n",
    "    if num:\n",
    "        return num + calculateSum(num-1)\n",
    "    else:\n",
    "        return 0\n",
    "    \n",
    "res = calculateSum(1)\n",
    "print(res)"
   ]
  },
  {
   "cell_type": "code",
   "execution_count": 4,
   "metadata": {},
   "outputs": [
    {
     "name": "stdout",
     "output_type": "stream",
     "text": [
      "yeerah 23\n",
      "abu 45\n"
     ]
    }
   ],
   "source": [
    "def displayStudent(name,age):\n",
    "    print(name,age)\n",
    "    \n",
    "displayStudent(\"yeerah\",23)\n",
    "\n",
    "showStudent = displayStudent \n",
    "\n",
    "showStudent (\"abu\",45)"
   ]
  },
  {
   "cell_type": "code",
   "execution_count": 16,
   "metadata": {},
   "outputs": [
    {
     "name": "stdout",
     "output_type": "stream",
     "text": [
      "[4, 5, 6, 7, 8, 9, 10, 11, 12, 13, 14, 15, 16, 17, 18, 19, 20, 21, 22, 23, 24, 25, 26, 27, 28, 29]\n"
     ]
    }
   ],
   "source": [
    "def generateven(a,b):\n",
    "    g =[]\n",
    "    for i in range(a,b):\n",
    "        if i%i == 0:\n",
    "            g.append(i)\n",
    "    print(g)\n",
    "generateven(4,30)"
   ]
  },
  {
   "cell_type": "code",
   "execution_count": 17,
   "metadata": {},
   "outputs": [
    {
     "name": "stdout",
     "output_type": "stream",
     "text": [
      "[4, 6, 8, 10, 12, 14, 16, 18, 20, 22, 24, 26, 28]\n"
     ]
    }
   ],
   "source": [
    "print(list( range(4, 30, 2)))"
   ]
  },
  {
   "cell_type": "code",
   "execution_count": 20,
   "metadata": {},
   "outputs": [
    {
     "name": "stdout",
     "output_type": "stream",
     "text": [
      "24\n"
     ]
    }
   ],
   "source": [
    "aList = [4, 6, 8, 24, 12, 2]\n",
    "print(max(aList))"
   ]
  },
  {
   "cell_type": "code",
   "execution_count": 3,
   "metadata": {},
   "outputs": [
    {
     "name": "stdout",
     "output_type": "stream",
     "text": [
      "The longest palindromic substring of aliabaabu is baab\n"
     ]
    }
   ],
   "source": [
    "def expand(str, low, high):\n",
    " \n",
    "    length = len(str)\n",
    " \n",
    "    # expand in both directions\n",
    "    while low >= 0 and high < length and str[low] == str[high]:\n",
    "        low = low - 1\n",
    "        high = high + 1\n",
    " \n",
    "    # return palindromic substring\n",
    "    return str[low + 1:high]\n",
    "\n",
    "def findLongestPalindromicSubstring(str, length):\n",
    " \n",
    "    # `max_str` stores the maximum length palindromic substring found so far\n",
    "    max_str = \"\"\n",
    " \n",
    "    # `max_length` stores the maximum length of palindromic\n",
    "    # substring found so far\n",
    "    max_length = 0\n",
    " \n",
    "    # consider every character of the given string as a midpoint and expand\n",
    "    # in both directions to find maximum length palindrome\n",
    " \n",
    "    for i in range(length):\n",
    " \n",
    "        # find the longest odd length palindrome with `str[i]` as a midpoint\n",
    "        curr_str = expand(str, i, i)\n",
    "        curr_length = len(curr_str)\n",
    " \n",
    "        # update maximum length palindromic substring if the odd length\n",
    "        # palindrome has a greater length\n",
    " \n",
    "        if curr_length > max_length:\n",
    "            max_length = curr_length\n",
    "            max_str = curr_str\n",
    " \n",
    "        # Find the longest even length palindrome with `str[i]` and `str[i+1]` as\n",
    "        # midpoints. Note that an even length palindrome has two midpoints.\n",
    " \n",
    "        curr_str = expand(str, i, i + 1)\n",
    "        curr_length = len(curr_str)\n",
    " \n",
    "        # update maximum length palindromic substring if even length\n",
    "        # palindrome has a greater length\n",
    " \n",
    "        if curr_length > max_length:\n",
    "            max_length = curr_length\n",
    "            max_str = curr_str\n",
    " \n",
    "    return max_str\n",
    " \n",
    " \n",
    "if __name__ == '__main__':\n",
    " \n",
    "    str = \"aliabaabu\"\n",
    " \n",
    "    print(f\"The longest palindromic substring of {str} is\",\n",
    "            findLongestPalindromicSubstring(str, len(str) - 1))\n"
   ]
  },
  {
   "cell_type": "code",
   "execution_count": 20,
   "metadata": {},
   "outputs": [
    {
     "name": "stdout",
     "output_type": "stream",
     "text": [
      "insert the temperature :45.7\n"
     ]
    },
    {
     "data": {
      "text/plain": [
       "('the temperature :', 318.84999999999997)"
      ]
     },
     "execution_count": 20,
     "metadata": {},
     "output_type": "execute_result"
    }
   ],
   "source": [
    "def celcius_to_kelvin(temp_c):\n",
    "    return temp_c + 273.15\n",
    "\n",
    "def ask_input():\n",
    "    temp_c = float(input('insert the temperature :'))\n",
    "    return 'the temperature :', celcius_to_kelvin(temp_c)\n",
    "\n",
    "\n",
    "\n",
    "\n",
    "\n",
    "# temp_c = float(input('insert the temperature :'))\n",
    "# print('the temperature :', celcius_to_kelvin(temp_c))\n",
    "\n",
    "ask_input()\n"
   ]
  },
  {
   "cell_type": "code",
   "execution_count": 16,
   "metadata": {},
   "outputs": [
    {
     "name": "stdout",
     "output_type": "stream",
     "text": [
      "insert the temperature :45.7\n",
      "the temp is 318.84999999999997\n"
     ]
    }
   ],
   "source": [
    "temp_c = input('insert the temperature :' )\n",
    "a = float(temp_c) + 273.15\n",
    "\n",
    "print('the temp is', a)"
   ]
  },
  {
   "cell_type": "code",
   "execution_count": 5,
   "metadata": {},
   "outputs": [
    {
     "data": {
      "text/plain": [
       "3.3846153846153846"
      ]
     },
     "execution_count": 5,
     "metadata": {},
     "output_type": "execute_result"
    }
   ],
   "source": [
    "from numba import jit\n",
    "import random\n",
    "\n",
    "@jit(nopython=True)\n",
    "def monte_carlo_pi(nsamples):\n",
    "    acc = 0\n",
    "    for i in range(nsamples):\n",
    "        x = random.random()\n",
    "        y = random.random()\n",
    "        if (x ** 2 + y ** 2) < 1.0:\n",
    "            acc += 1\n",
    "    return 4.0 * acc / nsamples\n",
    "\n",
    "monte_carlo_pi(26)"
   ]
  },
  {
   "cell_type": "code",
   "execution_count": null,
   "metadata": {},
   "outputs": [],
   "source": []
  }
 ],
 "metadata": {
  "kernelspec": {
   "display_name": "Python 3",
   "language": "python",
   "name": "python3"
  },
  "language_info": {
   "codemirror_mode": {
    "name": "ipython",
    "version": 3
   },
   "file_extension": ".py",
   "mimetype": "text/x-python",
   "name": "python",
   "nbconvert_exporter": "python",
   "pygments_lexer": "ipython3",
   "version": "3.9.4"
  }
 },
 "nbformat": 4,
 "nbformat_minor": 4
}
